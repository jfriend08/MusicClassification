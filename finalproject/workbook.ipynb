{
 "cells": [
  {
   "cell_type": "markdown",
   "metadata": {},
   "source": [
    "# Workbook\n",
    "----------------------------------------"
   ]
  },
  {
   "cell_type": "markdown",
   "metadata": {},
   "source": [
    "## Testing preprocess module\n",
    "- \n"
   ]
  },
  {
   "cell_type": "code",
   "execution_count": 1,
   "metadata": {
    "collapsed": false
   },
   "outputs": [
    {
     "name": "stderr",
     "output_type": "stream",
     "text": [
      "/Users/apple/anaconda/lib/python2.7/site-packages/IPython/kernel/__init__.py:13: ShimWarning: The `IPython.kernel` package has been deprecated. You should import from ipykernel or jupyter_client instead.\n",
      "  \"You should import from ipykernel or jupyter_client instead.\", ShimWarning)\n",
      "/Users/apple/anaconda/lib/python2.7/site-packages/librosa/core/audio.py:37: UserWarning: Could not import scikits.samplerate. Falling back to scipy.signal\n",
      "  warnings.warn('Could not import scikits.samplerate. '\n"
     ]
    },
    {
     "name": "stdout",
     "output_type": "stream",
     "text": [
      "X size/number of songs: 40 Number of clips per song: 100 y size: 40\n",
      "(14, 100, 5000) (22, 100, 5000) (4, 100, 5000)\n",
      "--> After MFCC X.shape (14, 100, 12, 10)\n",
      "--> X_train_flattened.shape (1400, 12, 10)\n",
      "--> After transpose X_train_flattened.shape (1400, 10, 12)\n",
      "X_center_features.shape (14000, 12)\n"
     ]
    }
   ],
   "source": [
    "%matplotlib nbagg\n",
    "\n",
    "import preprocess\n",
    "\n",
    "pp = preprocess.preprocess()\n",
    "X, y = pp.getData(\"../homework2/data/data_small5.in\", 10) #path, clip numDivide\n",
    "# X, y = pp.getData(\"../serverTest/MusicClassification/data/data.in\", 50000) #path, clip length\n",
    "\n",
    "(X_center, y_center), (X_classifier, y_classifier), (X_test, y_test) = pp.splitData(\n",
    "    X, y, randState=1985, TestTrainRatio=0.1, ClassifierCenterRatio=0.6)\n",
    "\n",
    "print X_center.shape, X_classifier.shape, X_test.shape\n",
    "\n",
    "X_center_features = pp.featureExtraction(X_center) #includes MFCC and normalization\n",
    "print \"X_center_features.shape\", X_center_features.shape #Note: this just flatten everything\n"
   ]
  },
  {
   "cell_type": "markdown",
   "metadata": {},
   "source": [
    "## Find Center\n",
    "- We need to play with K and maybe batch_size"
   ]
  },
  {
   "cell_type": "code",
   "execution_count": 2,
   "metadata": {
    "collapsed": false
   },
   "outputs": [
    {
     "name": "stdout",
     "output_type": "stream",
     "text": [
      "-------------- START MiniBatchKMeans --------------\n",
      "centroids.shape (10, 12)\n"
     ]
    }
   ],
   "source": [
    "from sklearn.cluster import MiniBatchKMeans\n",
    "print \"--------------\", \"START MiniBatchKMeans\", \"--------------\"\n",
    "n, dim = X_center_features.shape\n",
    "clf = MiniBatchKMeans(n_clusters=10, batch_size=int(n*0.1), max_iter=200).fit(X_center_features) #X : array-like, shape = [n_samples, n_features]\n",
    "centroids = clf.cluster_centers_\n",
    "print \"centroids.shape\", centroids.shape"
   ]
  },
  {
   "cell_type": "markdown",
   "metadata": {},
   "source": [
    "## VLAD"
   ]
  },
  {
   "cell_type": "code",
   "execution_count": 3,
   "metadata": {
    "collapsed": false
   },
   "outputs": [
    {
     "name": "stdout",
     "output_type": "stream",
     "text": [
      "vlad before X.shape (22, 100, 5000)\n",
      "vlad after X.shape (22, 100, 12, 10)\n",
      "After transpose Xt.shape (22, 100, 10, 12)\n",
      "vlad before X.shape (4, 100, 5000)\n",
      "vlad after X.shape (4, 100, 12, 10)\n",
      "After transpose Xt.shape (4, 100, 10, 12)\n",
      "(22, 12)\n",
      "(22,)\n"
     ]
    }
   ],
   "source": [
    "import vlad\n",
    "\n",
    "trainX_centerSubstract, trainy_centerSubstract = vlad.my_vlad(centroids, X_classifier, y_classifier)\n",
    "testX_centerSubstract, testy_centerSubstract = vlad.my_vlad(centroids, X_test, y_test)\n",
    "\n",
    "print trainX_centerSubstract.shape\n",
    "print trainy_centerSubstract.shape"
   ]
  },
  {
   "cell_type": "markdown",
   "metadata": {},
   "source": []
  },
  {
   "cell_type": "code",
   "execution_count": 4,
   "metadata": {
    "collapsed": false
   },
   "outputs": [
    {
     "name": "stdout",
     "output_type": "stream",
     "text": [
      "Fitting 3 folds for each of 40 candidates, totalling 120 fits\n",
      "[CV] n_neighbors=3, weights=uniform, algorithm=auto ..................\n",
      "[CV]  n_neighbors=3, weights=uniform, algorithm=auto, score=0.272727 -   0.0s\n",
      "[CV] n_neighbors=3, weights=uniform, algorithm=auto ..................\n",
      "[CV]  n_neighbors=3, weights=uniform, algorithm=auto, score=0.285714 -   0.0s\n",
      "[CV] n_neighbors=3, weights=uniform, algorithm=auto ..................\n",
      "[CV]  n_neighbors=3, weights=uniform, algorithm=auto, score=0.250000 -   0.0s\n",
      "[CV] n_neighbors=3, weights=distance, algorithm=auto .................\n",
      "[CV]  n_neighbors=3, weights=distance, algorithm=auto, score=0.181818 -   0.0s\n",
      "[CV] n_neighbors=3, weights=distance, algorithm=auto .................\n",
      "[CV]  n_neighbors=3, weights=distance, algorithm=auto, score=0.142857 -   0.0s\n",
      "[CV] n_neighbors=3, weights=distance, algorithm=auto .................\n",
      "[CV]  n_neighbors=3, weights=distance, algorithm=auto, score=0.500000 -   0.0s\n",
      "[CV] n_neighbors=4, weights=uniform, algorithm=auto ..................\n",
      "[CV]  n_neighbors=4, weights=uniform, algorithm=auto, score=0.272727 -   0.0s\n",
      "[CV] n_neighbors=4, weights=uniform, algorithm=auto ..................\n",
      "[CV]  n_neighbors=4, weights=uniform, algorithm=auto, score=0.285714 -   0.0s\n",
      "[CV] n_neighbors=4, weights=uniform, algorithm=auto ..................\n",
      "[CV]  n_neighbors=4, weights=uniform, algorithm=auto, score=0.500000 -   0.0s\n",
      "[CV] n_neighbors=4, weights=distance, algorithm=auto .................\n",
      "[CV]  n_neighbors=4, weights=distance, algorithm=auto, score=0.181818 -   0.0s\n",
      "[CV] n_neighbors=4, weights=distance, algorithm=auto .................\n",
      "[CV]  n_neighbors=4, weights=distance, algorithm=auto, score=0.142857 -   0.0s\n",
      "[CV] n_neighbors=4, weights=distance, algorithm=auto .................\n",
      "[CV]  n_neighbors=4, weights=distance, algorithm=auto, score=0.500000 -   0.0s\n",
      "[CV] n_neighbors=5, weights=uniform, algorithm=auto ..................\n",
      "[CV]  n_neighbors=5, weights=uniform, algorithm=auto, score=0.272727 -   0.0s\n",
      "[CV] n_neighbors=5, weights=uniform, algorithm=auto ..................\n",
      "[CV]  n_neighbors=5, weights=uniform, algorithm=auto, score=0.142857 -   0.0s\n",
      "[CV] n_neighbors=5, weights=uniform, algorithm=auto ..................\n",
      "[CV]  n_neighbors=5, weights=uniform, algorithm=auto, score=0.500000 -   0.0s\n",
      "[CV] n_neighbors=5, weights=distance, algorithm=auto .................\n",
      "[CV]  n_neighbors=5, weights=distance, algorithm=auto, score=0.181818 -   0.0s\n",
      "[CV] n_neighbors=5, weights=distance, algorithm=auto .................\n",
      "[CV]  n_neighbors=5, weights=distance, algorithm=auto, score=0.142857 -   0.0s\n",
      "[CV] n_neighbors=5, weights=distance, algorithm=auto .................\n",
      "[CV]  n_neighbors=5, weights=distance, algorithm=auto, score=0.500000 -   0.0s"
     ]
    },
    {
     "name": "stderr",
     "output_type": "stream",
     "text": [
      "/Users/apple/anaconda/lib/python2.7/site-packages/sklearn/cross_validation.py:516: Warning: The least populated class in y has only 1 members, which is too few. The minimum number of labels for any class cannot be less than n_folds=3.\n",
      "  % (min_labels, self.n_folds)), Warning)\n",
      "[Parallel(n_jobs=1)]: Done  31 tasks       | elapsed:    0.1s\n"
     ]
    },
    {
     "name": "stdout",
     "output_type": "stream",
     "text": [
      "\n",
      "[CV] n_neighbors=6, weights=uniform, algorithm=auto ..................\n",
      "[CV]  n_neighbors=6, weights=uniform, algorithm=auto, score=0.272727 -   0.0s\n",
      "[CV] n_neighbors=6, weights=uniform, algorithm=auto ..................\n",
      "[CV]  n_neighbors=6, weights=uniform, algorithm=auto, score=0.285714 -   0.0s\n",
      "[CV] n_neighbors=6, weights=uniform, algorithm=auto ..................\n",
      "[CV]  n_neighbors=6, weights=uniform, algorithm=auto, score=0.250000 -   0.0s\n",
      "[CV] n_neighbors=6, weights=distance, algorithm=auto .................\n",
      "[CV]  n_neighbors=6, weights=distance, algorithm=auto, score=0.181818 -   0.0s\n",
      "[CV] n_neighbors=6, weights=distance, algorithm=auto .................\n",
      "[CV]  n_neighbors=6, weights=distance, algorithm=auto, score=0.285714 -   0.0s\n",
      "[CV] n_neighbors=6, weights=distance, algorithm=auto .................\n",
      "[CV]  n_neighbors=6, weights=distance, algorithm=auto, score=0.500000 -   0.0s\n",
      "[CV] n_neighbors=7, weights=uniform, algorithm=auto ..................\n",
      "[CV]  n_neighbors=7, weights=uniform, algorithm=auto, score=0.272727 -   0.0s\n",
      "[CV] n_neighbors=7, weights=uniform, algorithm=auto ..................\n",
      "[CV]  n_neighbors=7, weights=uniform, algorithm=auto, score=0.285714 -   0.0s\n",
      "[CV] n_neighbors=7, weights=uniform, algorithm=auto ..................\n",
      "[CV]  n_neighbors=7, weights=uniform, algorithm=auto, score=0.500000 -   0.0s\n",
      "[CV] n_neighbors=7, weights=distance, algorithm=auto .................\n",
      "[CV]  n_neighbors=7, weights=distance, algorithm=auto, score=0.181818 -   0.0s\n",
      "[CV] n_neighbors=7, weights=distance, algorithm=auto .................\n",
      "[CV]  n_neighbors=7, weights=distance, algorithm=auto, score=0.428571 -   0.0s\n",
      "[CV] n_neighbors=7, weights=distance, algorithm=auto .................\n",
      "[CV]  n_neighbors=7, weights=distance, algorithm=auto, score=0.500000 -   0.0s\n",
      "[CV] n_neighbors=3, weights=uniform, algorithm=ball_tree .............\n",
      "[CV]  n_neighbors=3, weights=uniform, algorithm=ball_tree, score=0.272727 -   0.0s\n",
      "[CV] n_neighbors=3, weights=uniform, algorithm=ball_tree .............\n",
      "[CV]  n_neighbors=3, weights=uniform, algorithm=ball_tree, score=0.285714 -   0.0s\n",
      "[CV] n_neighbors=3, weights=uniform, algorithm=ball_tree .............\n",
      "[CV]  n_neighbors=3, weights=uniform, algorithm=ball_tree, score=0.250000 -   0.0s\n",
      "[CV] n_neighbors=3, weights=distance, algorithm=ball_tree ............\n",
      "[CV]  n_neighbors=3, weights=distance, algorithm=ball_tree, score=0.181818 -   0.0s\n",
      "[CV] n_neighbors=3, weights=distance, algorithm=ball_tree ............\n",
      "[CV]  n_neighbors=3, weights=distance, algorithm=ball_tree, score=0.142857 -   0.0s\n",
      "[CV] n_neighbors=3, weights=distance, algorithm=ball_tree ............\n",
      "[CV]  n_neighbors=3, weights=distance, algorithm=ball_tree, score=0.500000 -   0.0s\n",
      "[CV] n_neighbors=4, weights=uniform, algorithm=ball_tree .............\n",
      "[CV]  n_neighbors=4, weights=uniform, algorithm=ball_tree, score=0.272727 -   0.0s\n",
      "[CV] n_neighbors=4, weights=uniform, algorithm=ball_tree .............\n",
      "[CV]  n_neighbors=4, weights=uniform, algorithm=ball_tree, score=0.285714 -   0.0s\n",
      "[CV] n_neighbors=4, weights=uniform, algorithm=ball_tree .............\n",
      "[CV]  n_neighbors=4, weights=uniform, algorithm=ball_tree, score=0.500000 -   0.0s\n",
      "[CV] n_neighbors=4, weights=distance, algorithm=ball_tree ............\n",
      "[CV]  n_neighbors=4, weights=distance, algorithm=ball_tree, score=0.181818 -   0.0s\n",
      "[CV] n_neighbors=4, weights=distance, algorithm=ball_tree ............\n",
      "[CV]  n_neighbors=4, weights=distance, algorithm=ball_tree, score=0.142857 -   0.0s\n",
      "[CV] n_neighbors=4, weights=distance, algorithm=ball_tree ............\n",
      "[CV]  n_neighbors=4, weights=distance, algorithm=ball_tree, score=0.500000 -   0.0s\n",
      "[CV] n_neighbors=5, weights=uniform, algorithm=ball_tree .............\n",
      "[CV]  n_neighbors=5, weights=uniform, algorithm=ball_tree, score=0.272727 -   0.0s\n",
      "[CV] n_neighbors=5, weights=uniform, algorithm=ball_tree .............\n",
      "[CV]  n_neighbors=5, weights=uniform, algorithm=ball_tree, score=0.142857 -   0.0s\n",
      "[CV] n_neighbors=5, weights=uniform, algorithm=ball_tree .............\n",
      "[CV]  n_neighbors=5, weights=uniform, algorithm=ball_tree, score=0.500000 -   0.0s\n",
      "[CV] n_neighbors=5, weights=distance, algorithm=ball_tree ............\n",
      "[CV]  n_neighbors=5, weights=distance, algorithm=ball_tree, score=0.181818 -   0.0s\n",
      "[CV] n_neighbors=5, weights=distance, algorithm=ball_tree ............\n",
      "[CV]  n_neighbors=5, weights=distance, algorithm=ball_tree, score=0.142857 -   0.0s\n",
      "[CV] n_neighbors=5, weights=distance, algorithm=ball_tree ............\n",
      "[CV]  n_neighbors=5, weights=distance, algorithm=ball_tree, score=0.500000 -   0.0s\n",
      "[CV] n_neighbors=6, weights=uniform, algorithm=ball_tree .............\n",
      "[CV]  n_neighbors=6, weights=uniform, algorithm=ball_tree, score=0.272727 -   0.0s\n",
      "[CV] n_neighbors=6, weights=uniform, algorithm=ball_tree .............\n",
      "[CV]  n_neighbors=6, weights=uniform, algorithm=ball_tree, score=0.285714 -   0.0s\n",
      "[CV] n_neighbors=6, weights=uniform, algorithm=ball_tree .............\n",
      "[CV]  n_neighbors=6, weights=uniform, algorithm=ball_tree, score=0.250000 -   0.0s\n",
      "[CV] n_neighbors=6, weights=distance, algorithm=ball_tree ............\n",
      "[CV]  n_neighbors=6, weights=distance, algorithm=ball_tree, score=0.181818 -   0.0s\n",
      "[CV] n_neighbors=6, weights=distance, algorithm=ball_tree ............\n",
      "[CV]  n_neighbors=6, weights=distance, algorithm=ball_tree, score=0.285714 -   0.0s\n",
      "[CV] n_neighbors=6, weights=distance, algorithm=ball_tree ............\n",
      "[CV]  n_neighbors=6, weights=distance, algorithm=ball_tree, score=0.500000 -   0.0s\n",
      "[CV] n_neighbors=7, weights=uniform, algorithm=ball_tree .............\n",
      "[CV]  n_neighbors=7, weights=uniform, algorithm=ball_tree, score=0.272727 -   0.0s\n",
      "[CV] n_neighbors=7, weights=uniform, algorithm=ball_tree .............\n",
      "[CV]  n_neighbors=7, weights=uniform, algorithm=ball_tree, score=0.285714 -   0.0s\n",
      "[CV] n_neighbors=7, weights=uniform, algorithm=ball_tree .............\n",
      "[CV]  n_neighbors=7, weights=uniform, algorithm=ball_tree, score=0.500000 -   0.0s\n",
      "[CV] n_neighbors=7, weights=distance, algorithm=ball_tree ............\n",
      "[CV]  n_neighbors=7, weights=distance, algorithm=ball_tree, score=0.181818 -   0.0s\n",
      "[CV] n_neighbors=7, weights=distance, algorithm=ball_tree ............\n",
      "[CV]  n_neighbors=7, weights=distance, algorithm=ball_tree, score=0.428571 -   0.0s\n",
      "[CV] n_neighbors=7, weights=distance, algorithm=ball_tree ............\n",
      "[CV]  n_neighbors=7, weights=distance, algorithm=ball_tree, score=0.500000 -   0.0s\n",
      "[CV] n_neighbors=3, weights=uniform, algorithm=kd_tree ...............\n",
      "[CV]  n_neighbors=3, weights=uniform, algorithm=kd_tree, score=0.272727 -   0.0s\n",
      "[CV] n_neighbors=3, weights=uniform, algorithm=kd_tree ...............\n",
      "[CV]  n_neighbors=3, weights=uniform, algorithm=kd_tree, score=0.285714 -   0.0s\n",
      "[CV] n_neighbors=3, weights=uniform, algorithm=kd_tree ...............\n",
      "[CV]  n_neighbors=3, weights=uniform, algorithm=kd_tree, score=0.250000 -   0.0s\n",
      "[CV] n_neighbors=3, weights=distance, algorithm=kd_tree ..............\n",
      "[CV]  n_neighbors=3, weights=distance, algorithm=kd_tree, score=0.181818 -   0.0s\n",
      "[CV] n_neighbors=3, weights=distance, algorithm=kd_tree ..............\n",
      "[CV]  n_neighbors=3, weights=distance, algorithm=kd_tree, score=0.142857 -   0.0s\n",
      "[CV] n_neighbors=3, weights=distance, algorithm=kd_tree ..............\n",
      "[CV]  n_neighbors=3, weights=distance, algorithm=kd_tree, score=0.500000 -   0.0s\n",
      "[CV] n_neighbors=4, weights=uniform, algorithm=kd_tree ...............\n",
      "[CV]  n_neighbors=4, weights=uniform, algorithm=kd_tree, score=0.272727 -   0.0s\n",
      "[CV] n_neighbors=4, weights=uniform, algorithm=kd_tree ...............\n",
      "[CV]  n_neighbors=4, weights=uniform, algorithm=kd_tree, score=0.285714 -   0.0s\n",
      "[CV] n_neighbors=4, weights=uniform, algorithm=kd_tree ...............\n",
      "[CV]  n_neighbors=4, weights=uniform, algorithm=kd_tree, score=0.500000 -   0.0s\n",
      "[CV] n_neighbors=4, weights=distance, algorithm=kd_tree ..............\n",
      "[CV]  n_neighbors=4, weights=distance, algorithm=kd_tree, score=0.181818 -   0.0s\n",
      "[CV] n_neighbors=4, weights=distance, algorithm=kd_tree ..............\n",
      "[CV]  n_neighbors=4, weights=distance, algorithm=kd_tree, score=0.142857 -   0.0s\n",
      "[CV] n_neighbors=4, weights=distance, algorithm=kd_tree ..............\n",
      "[CV]  n_neighbors=4, weights=distance, algorithm=kd_tree, score=0.500000 -   0.0s\n",
      "[CV] n_neighbors=5, weights=uniform, algorithm=kd_tree ...............\n",
      "[CV]  n_neighbors=5, weights=uniform, algorithm=kd_tree, score=0.272727 -   0.0s\n",
      "[CV] n_neighbors=5, weights=uniform, algorithm=kd_tree ...............\n",
      "[CV]  n_neighbors=5, weights=uniform, algorithm=kd_tree, score=0.142857 -   0.0s\n",
      "[CV] n_neighbors=5, weights=uniform, algorithm=kd_tree ...............\n",
      "[CV]  n_neighbors=5, weights=uniform, algorithm=kd_tree, score=0.500000 -   0.0s\n",
      "[CV] n_neighbors=5, weights=distance, algorithm=kd_tree ..............\n",
      "[CV]  n_neighbors=5, weights=distance, algorithm=kd_tree, score=0.181818 -   0.0s\n",
      "[CV] n_neighbors=5, weights=distance, algorithm=kd_tree ..............\n",
      "[CV]  n_neighbors=5, weights=distance, algorithm=kd_tree, score=0.142857 -   0.0s\n",
      "[CV] n_neighbors=5, weights=distance, algorithm=kd_tree ..............\n",
      "[CV]  n_neighbors=5, weights=distance, algorithm=kd_tree, score=0.500000 -   0.0s\n",
      "[CV] n_neighbors=6, weights=uniform, algorithm=kd_tree ...............\n",
      "[CV]  n_neighbors=6, weights=uniform, algorithm=kd_tree, score=0.272727 -   0.0s\n",
      "[CV] n_neighbors=6, weights=uniform, algorithm=kd_tree ...............\n",
      "[CV]  n_neighbors=6, weights=uniform, algorithm=kd_tree, score=0.285714 -   0.0s\n",
      "[CV] n_neighbors=6, weights=uniform, algorithm=kd_tree ...............\n",
      "[CV]  n_neighbors=6, weights=uniform, algorithm=kd_tree, score=0.250000 -   0.0s\n",
      "[CV] n_neighbors=6, weights=distance, algorithm=kd_tree ..............\n",
      "[CV]  n_neighbors=6, weights=distance, algorithm=kd_tree, score=0.181818 -   0.0s\n",
      "[CV] n_neighbors=6, weights=distance, algorithm=kd_tree ..............\n",
      "[CV]  n_neighbors=6, weights=distance, algorithm=kd_tree, score=0.285714 -   0.0s\n",
      "[CV] n_neighbors=6, weights=distance, algorithm=kd_tree ..............\n",
      "[CV]  n_neighbors=6, weights=distance, algorithm=kd_tree, score=0.500000 -   0.0s\n",
      "[CV] n_neighbors=7, weights=uniform, algorithm=kd_tree ...............\n",
      "[CV]  n_neighbors=7, weights=uniform, algorithm=kd_tree, score=0.272727 -   0.0s\n",
      "[CV] n_neighbors=7, weights=uniform, algorithm=kd_tree ...............\n",
      "[CV]  n_neighbors=7, weights=uniform, algorithm=kd_tree, score=0.285714 -   0.0s\n",
      "[CV] n_neighbors=7, weights=uniform, algorithm=kd_tree ...............\n",
      "[CV]  n_neighbors=7, weights=uniform, algorithm=kd_tree, score=0.500000 -   0.0s\n",
      "[CV] n_neighbors=7, weights=distance, algorithm=kd_tree ..............\n",
      "[CV]  n_neighbors=7, weights=distance, algorithm=kd_tree, score=0.181818 -   0.0s\n",
      "[CV] n_neighbors=7, weights=distance, algorithm=kd_tree ..............\n",
      "[CV]  n_neighbors=7, weights=distance, algorithm=kd_tree, score=0.428571 -   0.0s\n",
      "[CV] n_neighbors=7, weights=distance, algorithm=kd_tree ..............\n",
      "[CV]  n_neighbors=7, weights=distance, algorithm=kd_tree, score=0.500000 -   0.0s\n",
      "[CV] n_neighbors=3, weights=uniform, algorithm=brute .................\n",
      "[CV]  n_neighbors=3, weights=uniform, algorithm=brute, score=0.272727 -   0.0s\n",
      "[CV] n_neighbors=3, weights=uniform, algorithm=brute .................\n",
      "[CV]  n_neighbors=3, weights=uniform, algorithm=brute, score=0.285714 -   0.0s\n",
      "[CV] n_neighbors=3, weights=uniform, algorithm=brute .................\n",
      "[CV]  n_neighbors=3, weights=uniform, algorithm=brute, score=0.250000 -   0.0s\n",
      "[CV] n_neighbors=3, weights=distance, algorithm=brute ................\n",
      "[CV]  n_neighbors=3, weights=distance, algorithm=brute, score=0.181818 -   0.0s\n",
      "[CV] n_neighbors=3, weights=distance, algorithm=brute ................\n",
      "[CV]  n_neighbors=3, weights=distance, algorithm=brute, score=0.142857 -   0.0s\n",
      "[CV] n_neighbors=3, weights=distance, algorithm=brute ................\n",
      "[CV]  n_neighbors=3, weights=distance, algorithm=brute, score=0.500000 -   0.0s\n",
      "[CV] n_neighbors=4, weights=uniform, algorithm=brute .................\n",
      "[CV]  n_neighbors=4, weights=uniform, algorithm=brute, score=0.272727 -   0.0s\n",
      "[CV] n_neighbors=4, weights=uniform, algorithm=brute .................\n",
      "[CV]  n_neighbors=4, weights=uniform, algorithm=brute, score=0.285714 -   0.0s\n",
      "[CV] n_neighbors=4, weights=uniform, algorithm=brute .................\n",
      "[CV]  n_neighbors=4, weights=uniform, algorithm=brute, score=0.500000 -   0.0s\n",
      "[CV] n_neighbors=4, weights=distance, algorithm=brute ................\n",
      "[CV]  n_neighbors=4, weights=distance, algorithm=brute, score=0.181818 -   0.0s\n",
      "[CV] n_neighbors=4, weights=distance, algorithm=brute ................\n",
      "[CV]  n_neighbors=4, weights=distance, algorithm=brute, score=0.142857 -   0.0s\n",
      "[CV] n_neighbors=4, weights=distance, algorithm=brute ................\n",
      "[CV]  n_neighbors=4, weights=distance, algorithm=brute, score=0.500000 -   0.0s\n",
      "[CV] n_neighbors=5, weights=uniform, algorithm=brute .................\n",
      "[CV]  n_neighbors=5, weights=uniform, algorithm=brute, score=0.272727 -   0.0s\n",
      "[CV] n_neighbors=5, weights=uniform, algorithm=brute .................\n",
      "[CV]  n_neighbors=5, weights=uniform, algorithm=brute, score=0.142857 -   0.0s\n",
      "[CV] n_neighbors=5, weights=uniform, algorithm=brute .................\n",
      "[CV]  n_neighbors=5, weights=uniform, algorithm=brute, score=0.500000 -   0.0s\n",
      "[CV] n_neighbors=5, weights=distance, algorithm=brute ................\n",
      "[CV]  n_neighbors=5, weights=distance, algorithm=brute, score=0.181818 -   0.0s\n",
      "[CV] n_neighbors=5, weights=distance, algorithm=brute ................\n",
      "[CV]  n_neighbors=5, weights=distance, algorithm=brute, score=0.142857 -   0.0s\n",
      "[CV] n_neighbors=5, weights=distance, algorithm=brute ................\n",
      "[CV]  n_neighbors=5, weights=distance, algorithm=brute, score=0.500000 -   0.0s\n",
      "[CV] n_neighbors=6, weights=uniform, algorithm=brute .................\n",
      "[CV]  n_neighbors=6, weights=uniform, algorithm=brute, score=0.272727 -   0.0s\n",
      "[CV] n_neighbors=6, weights=uniform, algorithm=brute .................\n",
      "[CV]  n_neighbors=6, weights=uniform, algorithm=brute, score=0.285714 -   0.0s\n",
      "[CV] n_neighbors=6, weights=uniform, algorithm=brute .................\n",
      "[CV]  n_neighbors=6, weights=uniform, algorithm=brute, score=0.250000 -   0.0s\n",
      "[CV] n_neighbors=6, weights=distance, algorithm=brute ................\n",
      "[CV]  n_neighbors=6, weights=distance, algorithm=brute, score=0.181818 -   0.0s\n",
      "[CV] n_neighbors=6, weights=distance, algorithm=brute ................\n",
      "[CV]  n_neighbors=6, weights=distance, algorithm=brute, score=0.285714 -   0.0s\n",
      "[CV] n_neighbors=6, weights=distance, algorithm=brute ................\n",
      "[CV]  n_neighbors=6, weights=distance, algorithm=brute, score=0.500000 -   0.0s\n",
      "[CV] n_neighbors=7, weights=uniform, algorithm=brute .................\n",
      "[CV]  n_neighbors=7, weights=uniform, algorithm=brute, score=0.272727 -   0.0s\n",
      "[CV] n_neighbors=7, weights=uniform, algorithm=brute .................\n",
      "[CV]  n_neighbors=7, weights=uniform, algorithm=brute, score=0.285714 -   0.0s\n",
      "[CV] n_neighbors=7, weights=uniform, algorithm=brute .................\n",
      "[CV]  n_neighbors=7, weights=uniform, algorithm=brute, score=0.500000 -   0.0s\n",
      "[CV] n_neighbors=7, weights=distance, algorithm=brute ................\n",
      "[CV]  n_neighbors=7, weights=distance, algorithm=brute, score=0.181818 -   0.0s\n",
      "[CV] n_neighbors=7, weights=distance, algorithm=brute ................\n",
      "[CV]  n_neighbors=7, weights=distance, algorithm=brute, score=0.428571 -   0.0s\n",
      "[CV] n_neighbors=7, weights=distance, algorithm=brute ................\n",
      "[CV]  n_neighbors=7, weights=distance, algorithm=brute, score=0.500000 -   0.0s\n",
      "---------------- Done grid search ----------------\n"
     ]
    },
    {
     "name": "stderr",
     "output_type": "stream",
     "text": [
      "[Parallel(n_jobs=1)]: Done 120 out of 120 | elapsed:    0.3s finished\n"
     ]
    }
   ],
   "source": [
    "from sklearn.grid_search import GridSearchCV\n",
    "from sklearn.neighbors import KNeighborsClassifier\n",
    "from sklearn.naive_bayes import MultinomialNB\n",
    "import numpy as np\n",
    "param_grid = {'n_neighbors': np.arange(3, 8),'weights':('uniform', 'distance'), 'algorithm':('auto','ball_tree', 'kd_tree', 'brute') }\n",
    "np.set_printoptions(suppress=True)\n",
    "grid_search = GridSearchCV(KNeighborsClassifier(), param_grid, verbose=3)\n",
    "grid_search.fit(trainX_centerSubstract, trainy_centerSubstract)\n",
    "print \"----------------\", \"Done grid search\", \"----------------\""
   ]
  },
  {
   "cell_type": "code",
   "execution_count": null,
   "metadata": {
    "collapsed": false
   },
   "outputs": [],
   "source": []
  },
  {
   "cell_type": "code",
   "execution_count": null,
   "metadata": {
    "collapsed": false
   },
   "outputs": [],
   "source": []
  },
  {
   "cell_type": "markdown",
   "metadata": {},
   "source": []
  },
  {
   "cell_type": "code",
   "execution_count": 5,
   "metadata": {
    "collapsed": false
   },
   "outputs": [
    {
     "name": "stdout",
     "output_type": "stream",
     "text": [
      "0.25\n",
      "{'n_neighbors': 4, 'weights': 'uniform', 'algorithm': 'auto'}\n"
     ]
    }
   ],
   "source": [
    "predict = grid_search.predict(testX_centerSubstract)\n",
    "print grid_search.score(testX_centerSubstract, testy_centerSubstract)\n",
    "print grid_search.best_params_"
   ]
  },
  {
   "cell_type": "code",
   "execution_count": null,
   "metadata": {
    "collapsed": false
   },
   "outputs": [],
   "source": []
  },
  {
   "cell_type": "code",
   "execution_count": null,
   "metadata": {
    "collapsed": false
   },
   "outputs": [],
   "source": []
  },
  {
   "cell_type": "code",
   "execution_count": null,
   "metadata": {
    "collapsed": false
   },
   "outputs": [],
   "source": []
  },
  {
   "cell_type": "code",
   "execution_count": null,
   "metadata": {
    "collapsed": false
   },
   "outputs": [],
   "source": []
  },
  {
   "cell_type": "markdown",
   "metadata": {},
   "source": []
  },
  {
   "cell_type": "code",
   "execution_count": null,
   "metadata": {
    "collapsed": false
   },
   "outputs": [],
   "source": []
  },
  {
   "cell_type": "code",
   "execution_count": null,
   "metadata": {
    "collapsed": true
   },
   "outputs": [],
   "source": []
  },
  {
   "cell_type": "code",
   "execution_count": null,
   "metadata": {
    "collapsed": false
   },
   "outputs": [],
   "source": []
  },
  {
   "cell_type": "markdown",
   "metadata": {},
   "source": []
  },
  {
   "cell_type": "code",
   "execution_count": null,
   "metadata": {
    "collapsed": false
   },
   "outputs": [],
   "source": []
  },
  {
   "cell_type": "code",
   "execution_count": null,
   "metadata": {
    "collapsed": true
   },
   "outputs": [],
   "source": []
  },
  {
   "cell_type": "code",
   "execution_count": null,
   "metadata": {
    "collapsed": false
   },
   "outputs": [],
   "source": []
  },
  {
   "cell_type": "code",
   "execution_count": null,
   "metadata": {
    "collapsed": false
   },
   "outputs": [],
   "source": []
  },
  {
   "cell_type": "code",
   "execution_count": null,
   "metadata": {
    "collapsed": false
   },
   "outputs": [],
   "source": []
  },
  {
   "cell_type": "markdown",
   "metadata": {
    "collapsed": false
   },
   "source": []
  },
  {
   "cell_type": "code",
   "execution_count": null,
   "metadata": {
    "collapsed": false
   },
   "outputs": [],
   "source": []
  },
  {
   "cell_type": "code",
   "execution_count": null,
   "metadata": {
    "collapsed": true
   },
   "outputs": [],
   "source": []
  }
 ],
 "metadata": {
  "kernelspec": {
   "display_name": "Python 2",
   "language": "python",
   "name": "python2"
  },
  "language_info": {
   "codemirror_mode": {
    "name": "ipython",
    "version": 2
   },
   "file_extension": ".py",
   "mimetype": "text/x-python",
   "name": "python",
   "nbconvert_exporter": "python",
   "pygments_lexer": "ipython2",
   "version": "2.7.10"
  }
 },
 "nbformat": 4,
 "nbformat_minor": 0
}
